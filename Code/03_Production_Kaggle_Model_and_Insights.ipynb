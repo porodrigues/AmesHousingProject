{
 "cells": [
  {
   "cell_type": "markdown",
   "metadata": {},
   "source": [
    "Which features appear to add the most value to a home?\n",
    "pool"
   ]
  },
  {
   "cell_type": "markdown",
   "metadata": {},
   "source": [
    "Which features hurt the value of a home the most?\n",
    "fireplace"
   ]
  },
  {
   "cell_type": "markdown",
   "metadata": {},
   "source": [
    "What are things that homeowners could improve in their homes to increase the value?\n",
    "finished basement or screen porch"
   ]
  },
  {
   "cell_type": "markdown",
   "metadata": {},
   "source": [
    "What neighborhoods seem like they might be a good investment?\n",
    "NridgHT\n",
    "StoneBr\n",
    "NoRide\n"
   ]
  },
  {
   "cell_type": "markdown",
   "metadata": {},
   "source": [
    "Do you feel that this model will generalize to other cities? How could you revise your model to make it more universal OR what date would you need from another city to make a comparable model?\n",
    "No to generalize to other city we will need data from that city as no 2 cities are the same and we will data from the other cities to update our model"
   ]
  },
  {
   "cell_type": "code",
   "execution_count": 3,
   "metadata": {},
   "outputs": [],
   "source": [
    "#Imports\n",
    "\n",
    "import pandas as pd\n",
    "import numpy as np\n",
    "\n",
    "from sklearn.linear_model import Lasso, LassoCV, LinearRegression, Ridge, RidgeCV\n",
    "from sklearn.model_selection import train_test_split, cross_val_score\n",
    "from sklearn.metrics import r2_score, mean_squared_error\n",
    "from sklearn.preprocessing import PolynomialFeatures, StandardScaler\n",
    "\n",
    "pd.options.display.max_columns = 100\n",
    "pd.options.display.max_columns = 3000"
   ]
  },
  {
   "cell_type": "code",
   "execution_count": 4,
   "metadata": {},
   "outputs": [],
   "source": [
    "def merge_files():\n",
    "    ames = pd.read_csv('../data/train.csv')\n",
    "    ames_test = pd.read_csv('../data/test.csv')\n",
    "    \n",
    "    # Set test saleprice = 0    \n",
    "    ames_test['saleprice'] = 0\n",
    "\n",
    "    # Merge train and test\n",
    "    final = pd.concat([ames, ames_test])\n",
    "\n",
    "    return final"
   ]
  },
  {
   "cell_type": "code",
   "execution_count": 5,
   "metadata": {},
   "outputs": [],
   "source": [
    "def sep_data(df):\n",
    "    train = df[df['saleprice'] > 0]\n",
    "    test = df[df['saleprice'] == 0]\n",
    "    test.drop(['saleprice'], axis=1, inplace=True)\n",
    "    return train, test"
   ]
  },
  {
   "cell_type": "code",
   "execution_count": 6,
   "metadata": {},
   "outputs": [],
   "source": [
    "def evaluate_model(model, X, y):\n",
    "    print(f'R2 Score: {r2_score(y, model.predict(X))}')\n",
    "    print(f'MSE: {mean_squared_error(y, model.predict(X))}')\n",
    "    print(f'RMSE: {np.sqrt(mean_squared_error(y, model.predict(X)))}')"
   ]
  },
  {
   "cell_type": "code",
   "execution_count": 7,
   "metadata": {},
   "outputs": [],
   "source": [
    "def add_dummies(df, dummy_list):\n",
    "    df = pd.get_dummies(columns=dummy_list, drop_first=True, data=df) #drop_first=True, drops the first column\n",
    "    return df"
   ]
  },
  {
   "cell_type": "code",
   "execution_count": 9,
   "metadata": {},
   "outputs": [],
   "source": [
    "def clean_data(df):\n",
    "    df['lot_frontage'].fillna(0, inplace=True)\n",
    "    df['alley'].fillna('NA', inplace=True)\n",
    "    df['garage_area'].fillna(0, inplace=True)\n",
    "    df['garage_cars'].fillna(0, inplace=True)\n",
    "    df['total_bsmt_sf'].fillna(0, inplace=True)\n",
    "    df['garage_yr_blt'].fillna(0, inplace=True)   \n",
    "    df['mas_vnr_area'].fillna(0, inplace=True)\n",
    "    df['bsmtfin_sf_1'].fillna(0, inplace=True)\n",
    "    df['bsmtfin_sf_1'].fillna(0, inplace=True)\n",
    "    df['electrical'].fillna('NA', inplace=True)\n",
    "    df['bsmt_qual'].fillna('NA', inplace=True)\n",
    "    df['fireplace_qu'].fillna('NA', inplace=True)\n",
    "    df['mas_vnr_type'].fillna('NA', inplace=True)\n",
    "    df['bsmt_cond'].fillna('NA', inplace=True)\n",
    "    df['bsmt_exposure'].fillna('No', inplace=True)\n",
    "    df['bsmtfin_type_1'].fillna('NA', inplace=True)\n",
    "    df['bsmtfin_type_2'].fillna('NA', inplace=True)\n",
    "    df['bsmtfin_sf_2'].fillna('NA', inplace=True)\n",
    "    df['bsmt_unf_sf'].fillna(0, inplace=True)\n",
    "    df['central_air'] = np.where(df['central_air'] == 'Y', 1, 0)\n",
    "    df['bsmt_full_bath'].fillna(0, inplace=True)\n",
    "    df['garage_finish'].fillna('NA', inplace=True)\n",
    "    df['garage_cars'].fillna('NA', inplace=True)\n",
    "    df['garage_qual'].fillna('NA', inplace=True)\n",
    "    df['garage_cond'].fillna('NA', inplace=True)\n",
    "    df['pool_qc'].fillna('NA', inplace=True)\n",
    "    df['garage_type'].fillna(0, inplace=True)\n",
    "    df['fence'].fillna('NA', inplace=True)\n",
    "    df['misc_feature'].fillna('NA', inplace=True)\n",
    "    df['bsmt_half_bath'].fillna(0, inplace=True)\n",
    "    \n",
    "    return df\n"
   ]
  },
  {
   "cell_type": "code",
   "execution_count": 10,
   "metadata": {},
   "outputs": [
    {
     "name": "stdout",
     "output_type": "stream",
     "text": [
      "+++++++ Train Results+++++++\n",
      "R2 Score: 0.9065165453468588\n",
      "MSE: 589031241.1332144\n",
      "RMSE: 24269.965824722836\n",
      "+++++++ Test Results+++++++\n",
      "R2 Score: 0.8905275429212176\n",
      "MSE: 517214479.75781196\n",
      "RMSE: 22742.34991723177\n"
     ]
    },
    {
     "name": "stderr",
     "output_type": "stream",
     "text": [
      "/Users/paulettewarrick/opt/anaconda3/lib/python3.8/site-packages/pandas/core/ops/array_ops.py:253: FutureWarning: elementwise comparison failed; returning scalar instead, but in the future will perform elementwise comparison\n",
      "  res_values = method(rvalues)\n",
      "/Users/paulettewarrick/opt/anaconda3/lib/python3.8/site-packages/pandas/core/frame.py:3990: SettingWithCopyWarning: \n",
      "A value is trying to be set on a copy of a slice from a DataFrame\n",
      "\n",
      "See the caveats in the documentation: https://pandas.pydata.org/pandas-docs/stable/user_guide/indexing.html#returning-a-view-versus-a-copy\n",
      "  return super().drop(\n"
     ]
    },
    {
     "data": {
      "text/html": [
       "<div>\n",
       "<style scoped>\n",
       "    .dataframe tbody tr th:only-of-type {\n",
       "        vertical-align: middle;\n",
       "    }\n",
       "\n",
       "    .dataframe tbody tr th {\n",
       "        vertical-align: top;\n",
       "    }\n",
       "\n",
       "    .dataframe thead th {\n",
       "        text-align: right;\n",
       "    }\n",
       "</style>\n",
       "<table border=\"1\" class=\"dataframe\">\n",
       "  <thead>\n",
       "    <tr style=\"text-align: right;\">\n",
       "      <th></th>\n",
       "      <th>id</th>\n",
       "      <th>SalePrice</th>\n",
       "    </tr>\n",
       "  </thead>\n",
       "  <tbody>\n",
       "    <tr>\n",
       "      <th>0</th>\n",
       "      <td>2658</td>\n",
       "      <td>163210.659229</td>\n",
       "    </tr>\n",
       "    <tr>\n",
       "      <th>1</th>\n",
       "      <td>2718</td>\n",
       "      <td>171218.029074</td>\n",
       "    </tr>\n",
       "    <tr>\n",
       "      <th>2</th>\n",
       "      <td>2414</td>\n",
       "      <td>225600.525268</td>\n",
       "    </tr>\n",
       "    <tr>\n",
       "      <th>3</th>\n",
       "      <td>1989</td>\n",
       "      <td>110896.676559</td>\n",
       "    </tr>\n",
       "    <tr>\n",
       "      <th>4</th>\n",
       "      <td>625</td>\n",
       "      <td>172459.944726</td>\n",
       "    </tr>\n",
       "  </tbody>\n",
       "</table>\n",
       "</div>"
      ],
      "text/plain": [
       "     id      SalePrice\n",
       "0  2658  163210.659229\n",
       "1  2718  171218.029074\n",
       "2  2414  225600.525268\n",
       "3  1989  110896.676559\n",
       "4   625  172459.944726"
      ]
     },
     "execution_count": 10,
     "metadata": {},
     "output_type": "execute_result"
    }
   ],
   "source": [
    "# Model II - \n",
    "df = merge_files()\n",
    "\n",
    "df = clean_data(df)\n",
    "\n",
    "# Sales Price is included to be used to split the data into train and test dataset\n",
    "all_data = df[['saleprice', \"lot_area\", \"street\", \"lot_shape\", \"1st_flr_sf\", \"2nd_flr_sf\", \"yr_sold\", \"condition_1\"\n",
    "               , \"neighborhood\", \"overall_cond\", 'garage_area', 'year_remod/add', 'full_bath', 'totrms_abvgrd'\n",
    "               , 'overall_qual', 'year_built', 'mas_vnr_area', 'bsmtfin_sf_1'\n",
    "#                , 'ms_zoning', 'alley', 'land_contour', 'utilities', 'lot_config', 'roof_matl', 'exterior_1st'  #added to my model\n",
    "#                , 'exter_cond', 'bsmt_qual', 'bsmt_exposure', 'bsmt_unf_sf', 'bedroom_abvgr', 'kitchen_qual'\n",
    "#                , 'garage_qual', 'garage_cond'\n",
    "#                , 'garage_qual', 'garage_cond', 'wood_deck_sf', 'enclosed_porch', '3ssn_porch'\n",
    "#                , 'screen_porch', 'fence', 'misc_val', 'mo_sold', 'sale_type'\n",
    "#                , 'land_slope', 'bldg_type', 'house_style', 'exterior_2nd', 'mas_vnr_type', 'exter_qual', 'bsmt_cond'\n",
    "#                , 'bsmtfin_type_1' # not sure if this should stay\n",
    "#                , 'bsmt_unf_sf', 'heating' , 'heating_qc', 'central_air', 'electrical', 'low_qual_fin_sf'\n",
    "#                , 'bsmt_full_bath'\n",
    "#                , 'bsmt_half_bath', 'half_bath', 'kitchen_abvgr', 'functional', 'fireplaces', 'fireplace_qu'\n",
    "#                , 'garage_type'\n",
    "#                , 'garage_finish', 'garage_cars', 'paved_drive', 'open_porch_sf', 'pool_area', 'pool_qc'\n",
    "#                , 'misc_feature'\n",
    "              ]]\n",
    "\n",
    "dummy_list = [\"street\", \"lot_shape\", \"yr_sold\", \"condition_1\", \"neighborhood\", 'year_built'\n",
    "#               , 'ms_zoning', 'alley', 'land_contour', 'utilities', 'lot_config', 'roof_matl', 'exterior_1st'\n",
    "#               , 'exter_cond', 'bsmt_qual', 'bsmt_exposure', 'kitchen_qual', 'garage_qual', 'garage_cond'\n",
    "#               , 'fence', 'mo_sold', 'sale_type'\n",
    "#               , 'land_slope', 'bldg_type', 'house_style', 'exterior_2nd', 'mas_vnr_type', 'exter_qual', 'bsmtfin_type_1', 'bsmt_cond'\n",
    "#               , 'heating', 'heating_qc', 'central_air', 'electrical', 'functional', 'fireplace_qu', 'garage_type'\n",
    "#               , 'garage_finish', 'paved_drive', 'pool_qc', 'misc_feature'\n",
    "             ]\n",
    "\n",
    "all_data = add_dummies(all_data, dummy_list)\n",
    "\n",
    "all_data\n",
    "\n",
    "train, testset = sep_data(all_data)\n",
    "\n",
    "X = train\n",
    "\n",
    "y = train[\"saleprice\"]\n",
    "train.drop(['saleprice'], axis=1, inplace=True)\n",
    "\n",
    "X_train, X_test, y_train, y_test = train_test_split(X, y, test_size = 0.01, random_state = 42)\n",
    "\n",
    "lr = LinearRegression()\n",
    "lr.fit(X_train, y_train)\n",
    "\n",
    "print('+++++++ Train Results+++++++')\n",
    "evaluate_model(lr, X_train, y_train)\n",
    "\n",
    "print('+++++++ Test Results+++++++')\n",
    "evaluate_model(lr, X_test, y_test)\n",
    "\n",
    "\n",
    "test = pd.read_csv('../data/test.csv')\n",
    "pred_price = lr.predict(testset)\n",
    "test['y_hat'] = pred_price\n",
    "\n",
    "submission = pd.DataFrame({'id': test['id'],\n",
    "                            'SalePrice': test['y_hat']})\n",
    "\n",
    "submission.to_csv('../data/prod_model.csv', index = False)\n",
    "\n",
    "submission.head()"
   ]
  },
  {
   "cell_type": "code",
   "execution_count": null,
   "metadata": {},
   "outputs": [],
   "source": []
  }
 ],
 "metadata": {
  "kernelspec": {
   "display_name": "Python 3",
   "language": "python",
   "name": "python3"
  },
  "language_info": {
   "codemirror_mode": {
    "name": "ipython",
    "version": 3
   },
   "file_extension": ".py",
   "mimetype": "text/x-python",
   "name": "python",
   "nbconvert_exporter": "python",
   "pygments_lexer": "ipython3",
   "version": "3.8.3"
  }
 },
 "nbformat": 4,
 "nbformat_minor": 4
}
